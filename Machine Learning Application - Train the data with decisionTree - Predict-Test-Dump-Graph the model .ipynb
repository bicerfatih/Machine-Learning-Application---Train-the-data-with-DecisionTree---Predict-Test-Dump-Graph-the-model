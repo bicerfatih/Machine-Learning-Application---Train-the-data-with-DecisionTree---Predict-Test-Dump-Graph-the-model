{
 "cells": [
  {
   "cell_type": "code",
   "execution_count": 192,
   "id": "7d4d3b31",
   "metadata": {},
   "outputs": [],
   "source": [
    "import pandas as pd #imports pandas library \n",
    "from sklearn.tree import DecisionTreeClassifier #imports DecisionTree algorithm\n",
    "from sklearn.model_selection import train_test_split # imports the function to split the data\n",
    "from sklearn.metrics import accuracy_score#imports the accuracy function to calculate the accuracy \n",
    "import joblib #this is to save the trained data and models \n",
    "from sklearn import tree #this is to export the decision tree in a graphical format "
   ]
  },
  {
   "cell_type": "code",
   "execution_count": 261,
   "id": "ef671b50",
   "metadata": {
    "scrolled": true
   },
   "outputs": [
    {
     "data": {
      "text/plain": [
       "1.0"
      ]
     },
     "execution_count": 261,
     "metadata": {},
     "output_type": "execute_result"
    }
   ],
   "source": [
    "movie_data = pd.read_csv('/users/f/desktop/Predict_Movies.csv') #read the csv file and load the data. \n",
    "X = movie_data.drop(columns=['Genre']) # We need to split the data in order to create our input set from Age and Gender so we need to drop the output.\n",
    "y = movie_data['Genre'] # This is to create output data. \n",
    "X_train, X_test, y_train, y_test = train_test_split(X,y,test_size=0.2) #we need to split the data into (training data and testing data)\n",
    "model = DecisionTreeClassifier() #Creates our model \n",
    "model.fit(X_train,y_train) #trains the data \n",
    "joblib.dump(model, 'recommend_movie.joblib')#Saves the trained model so we dont need to train it every time. \n",
    "#model = joblib.load('recommend_movie.joblib') #this is to load the saved model \n",
    "prediction = model.predict(X_test)#creates prediction results from test data \n",
    "accuracy_score(y_test, prediction)\n"
   ]
  },
  {
   "cell_type": "code",
   "execution_count": 267,
   "id": "3c2a7018",
   "metadata": {},
   "outputs": [],
   "source": [
    "tree.export_graphviz(model, out_file='recommend_movie.dot', \n",
    "                     feature_names = ['Age', 'Gender'], \n",
    "                     class_names = sorted(y.unique()),\n",
    "                     label= 'all',\n",
    "                     rounded = True,\n",
    "                     filled = True) #This is to get the graphic for the decisionTree model. \n",
    "#Find the created recommend_movie.dot file on your computer and open it with Visual Studio Code. \n",
    "#From the extensions section of your Visual Studio Code download (Graphviz (dot) language support for Visual Studio..)\n",
    "#Right click to the opened code of (recommend_movie.dot file) and select Open Preview to the Slide "
   ]
  }
 ],
 "metadata": {
  "kernelspec": {
   "display_name": "Python 3 (ipykernel)",
   "language": "python",
   "name": "python3"
  },
  "language_info": {
   "codemirror_mode": {
    "name": "ipython",
    "version": 3
   },
   "file_extension": ".py",
   "mimetype": "text/x-python",
   "name": "python",
   "nbconvert_exporter": "python",
   "pygments_lexer": "ipython3",
   "version": "3.9.12"
  }
 },
 "nbformat": 4,
 "nbformat_minor": 5
}
